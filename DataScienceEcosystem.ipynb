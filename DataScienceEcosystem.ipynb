{
 "cells": [
  {
   "cell_type": "markdown",
   "id": "64439032-74c9-4b81-b267-bc2c43518850",
   "metadata": {
    "tags": []
   },
   "source": [
    "# Data Science Tools and Ecosystem"
   ]
  },
  {
   "cell_type": "markdown",
   "id": "1c547915-33b6-4c26-b827-875ecdf45e38",
   "metadata": {
    "tags": []
   },
   "source": [
    "In this notebook, Data Science Tools and Ecosystem are summarized."
   ]
  },
  {
   "cell_type": "markdown",
   "id": "ae7c51d5-a852-4867-832a-f58f18fc5b2f",
   "metadata": {},
   "source": [
    "**Objectives:**"
   ]
  },
  {
   "cell_type": "markdown",
   "id": "d0b2e97a-5ec3-46b2-a885-20ce0e29dfbd",
   "metadata": {},
   "source": [
    "+ learn how to create a title. \n",
    "+ List popular languages for Data Science\n",
    "+ learn how to create a table.\n",
    "+ Use integers to create an arithmetic expressions. \n"
   ]
  },
  {
   "cell_type": "markdown",
   "id": "c92aaae7-2171-4706-ad2f-f6e30f8bf803",
   "metadata": {},
   "source": [
    "Some of the popular languages that Data Scientists use are:"
   ]
  },
  {
   "cell_type": "markdown",
   "id": "59593d4d-35b0-43e3-8515-108fae1f0ad6",
   "metadata": {
    "tags": []
   },
   "source": [
    "1. SQL\n",
    "2. Python\n",
    "3. R"
   ]
  },
  {
   "cell_type": "markdown",
   "id": "0e2b33c8-0838-4733-a598-c65d60ae89db",
   "metadata": {
    "tags": []
   },
   "source": [
    "Some of the commonly used libraries used by Data Scientists include:"
   ]
  },
  {
   "cell_type": "markdown",
   "id": "156bcd30-595a-45db-8aab-b170bda2a67e",
   "metadata": {},
   "source": [
    "1. Numpy\n",
    "2. Pandas\n",
    "3. Seaborn\n",
    "4. Matplotlib"
   ]
  },
  {
   "cell_type": "markdown",
   "id": "09d78414-3317-42c4-ab23-ccb24fd32d20",
   "metadata": {},
   "source": [
    "| Data Science Tools | Description|\n",
    "| -------------------|-------------|\n",
    "| Ceph | A free open source distributed storage system for large amounts of data.|\n",
    "| Git| A free open source distributor of version control.|\n",
    "|Spyder|An open source tool used for advanced editing, analysis, debugging, etc.|\n",
    "\n",
    "\n"
   ]
  },
  {
   "cell_type": "markdown",
   "id": "3818ad29-0429-46ac-8a22-e199131b1810",
   "metadata": {},
   "source": [
    "### Below are a few examples of evaluating arithmetic expressions in Python"
   ]
  },
  {
   "cell_type": "code",
   "execution_count": 7,
   "id": "6c5bb4eb-a8e5-42ca-96c7-13ef155abf2e",
   "metadata": {
    "tags": []
   },
   "outputs": [],
   "source": [
    "# this a simple arithmetic expression to mutiply then add integers"
   ]
  },
  {
   "cell_type": "code",
   "execution_count": 8,
   "id": "30779c8d-585a-4ff8-aa63-a61b43b6b163",
   "metadata": {
    "tags": []
   },
   "outputs": [
    {
     "data": {
      "text/plain": [
       "17"
      ]
     },
     "execution_count": 8,
     "metadata": {},
     "output_type": "execute_result"
    }
   ],
   "source": [
    "(3*4)+5"
   ]
  },
  {
   "cell_type": "code",
   "execution_count": null,
   "id": "c70dd0b7-e127-4875-8181-7528adcc19be",
   "metadata": {},
   "outputs": [],
   "source": [
    "# This will convert 200 minutes to hours by diving by 60\n"
   ]
  },
  {
   "cell_type": "code",
   "execution_count": 12,
   "id": "9b1c594e-8e24-4b0a-b5cd-8004390c094b",
   "metadata": {
    "tags": []
   },
   "outputs": [
    {
     "data": {
      "text/plain": [
       "3.3333333333333335"
      ]
     },
     "execution_count": 12,
     "metadata": {},
     "output_type": "execute_result"
    }
   ],
   "source": [
    "(200/60)"
   ]
  },
  {
   "cell_type": "markdown",
   "id": "44d714d8-2947-4652-b3af-932bd804dc32",
   "metadata": {},
   "source": [
    "## Author "
   ]
  },
  {
   "cell_type": "markdown",
   "id": "3c1b35b2-2dea-46b4-bde7-24c7661ec73e",
   "metadata": {
    "tags": []
   },
   "source": [
    "Nicole Brown"
   ]
  },
  {
   "cell_type": "code",
   "execution_count": null,
   "id": "1d8e64fe-1d3c-4f7b-9290-6e5a9a8d9586",
   "metadata": {},
   "outputs": [],
   "source": []
  }
 ],
 "metadata": {
  "kernelspec": {
   "display_name": "Python",
   "language": "python",
   "name": "conda-env-python-py"
  },
  "language_info": {
   "codemirror_mode": {
    "name": "ipython",
    "version": 3
   },
   "file_extension": ".py",
   "mimetype": "text/x-python",
   "name": "python",
   "nbconvert_exporter": "python",
   "pygments_lexer": "ipython3",
   "version": "3.7.12"
  }
 },
 "nbformat": 4,
 "nbformat_minor": 5
}
